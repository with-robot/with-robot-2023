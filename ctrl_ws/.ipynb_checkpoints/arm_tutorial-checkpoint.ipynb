{
 "cells": [
  {
   "cell_type": "code",
   "execution_count": 1,
   "id": "5e117432-baaa-4dd2-b858-d4b430b6770d",
   "metadata": {},
   "outputs": [],
   "source": [
    "import numpy as np\n",
    "import json\n",
    "import requests\n",
    "import ipywidgets as widgets"
   ]
  },
  {
   "cell_type": "code",
   "execution_count": 2,
   "id": "be46e04b-9165-4938-8af6-2631323ec08a",
   "metadata": {},
   "outputs": [],
   "source": [
    "def control_arm(thetas):\n",
    "    data = {\n",
    "        'joint_states': thetas\n",
    "    }\n",
    "    headers = {\"Content-Type\": \"application/json\"}\n",
    "    return requests.put('http://127.0.0.1:5000/',\n",
    "                        headers=headers,\n",
    "                        data=json.dumps(data)).json()"
   ]
  },
  {
   "cell_type": "code",
   "execution_count": 20,
   "id": "fea9cbb7-b8cc-4222-9087-ff811c05b40f",
   "metadata": {},
   "outputs": [
    {
     "data": {
      "text/plain": [
       "{'edge': {'orientation': [0.0, 0.0, 0.479426, 0.877583],\n",
       "  'position': [0.067538, 0.105184, 1.325]},\n",
       " 'joint_01': {'orientation': [0.0, 0.0, 0.479426, 0.877583],\n",
       "  'position': [0.0, 0.0, 0.225]},\n",
       " 'joint_02': {'orientation': [0.0, 0.0, 0.479426, 0.877583],\n",
       "  'position': [0.067538, 0.105184, 0.225]},\n",
       " 'joint_03': {'orientation': [0.0, 0.0, 0.479426, 0.877583],\n",
       "  'position': [0.067538, 0.105184, 0.75]},\n",
       " 'joint_04': {'orientation': [0.0, 0.0, 0.479426, 0.877583],\n",
       "  'position': [0.0, 0.0, 0.75]},\n",
       " 'joint_05': {'orientation': [0.0, 0.0, 0.479426, 0.877583],\n",
       "  'position': [0.0, 0.0, 1.125]},\n",
       " 'joint_06': {'orientation': [0.0, 0.0, 0.479426, 0.877583],\n",
       "  'position': [0.067538, 0.105184, 1.125]},\n",
       " 'joint_states': [1.0, 0.0, 0.0, 0.0, 0.0, 0.0]}"
      ]
     },
     "execution_count": 20,
     "metadata": {},
     "output_type": "execute_result"
    }
   ],
   "source": [
    "control_arm([1, 0, 0, 0, 0, 0])"
   ]
  },
  {
   "cell_type": "code",
   "execution_count": 59,
   "id": "392f2444-2739-4e62-ac4f-1ccf769530b2",
   "metadata": {},
   "outputs": [],
   "source": [
    "def make_slider(name):\n",
    "    w = widgets.FloatSlider(\n",
    "        value=0,\n",
    "        min=-np.pi,\n",
    "        max=np.pi,\n",
    "        step=0.01,\n",
    "        readout_format='.2f',\n",
    "        description=f'{name}:'\n",
    "    )\n",
    "    return w"
   ]
  },
  {
   "cell_type": "code",
   "execution_count": 63,
   "id": "3edc0518-eaa7-46ea-8e5c-0531a612214d",
   "metadata": {},
   "outputs": [
    {
     "data": {
      "application/vnd.jupyter.widget-view+json": {
       "model_id": "efe7da90d4444d4ea4a3adbe289ad865",
       "version_major": 2,
       "version_minor": 0
      },
      "text/plain": [
       "FloatSlider(value=0.0, description='Joint 01:', max=3.141592653589793, min=-3.141592653589793, step=0.01)"
      ]
     },
     "metadata": {},
     "output_type": "display_data"
    },
    {
     "data": {
      "application/vnd.jupyter.widget-view+json": {
       "model_id": "6d60db431a744ed0a9262bbe2ce1e6d7",
       "version_major": 2,
       "version_minor": 0
      },
      "text/plain": [
       "Output()"
      ]
     },
     "metadata": {},
     "output_type": "display_data"
    }
   ],
   "source": [
    "thetas = [0.1, 0.0, 0.0, 0.0, 0.0, 0.0]\n",
    "\n",
    "def on_handle_change():\n",
    "    control_arm(thetas)\n",
    "    \n",
    "def on_joint01_change(change):\n",
    "    thetas[i] = change.new\n",
    "    on_handle_change()\n",
    "\n",
    "joint01 = make_slider('Joint 01', )\n",
    "output2 = widgets.Output()\n",
    "\n",
    "display(joint01, output2)\n",
    "\n",
    "joint01.observe(on_joint01_change, names='value')"
   ]
  },
  {
   "cell_type": "code",
   "execution_count": 62,
   "id": "660a6f19-454e-483b-99d7-9b50a5ee3b18",
   "metadata": {},
   "outputs": [
    {
     "data": {
      "text/plain": [
       "[0.0, 0.0, 0.0, 0.0, 0.0, 0.0]"
      ]
     },
     "execution_count": 62,
     "metadata": {},
     "output_type": "execute_result"
    }
   ],
   "source": [
    "thetas"
   ]
  },
  {
   "cell_type": "code",
   "execution_count": null,
   "id": "a1e7ba94-faa7-4fef-b413-67bbd1856ba3",
   "metadata": {},
   "outputs": [],
   "source": []
  }
 ],
 "metadata": {
  "kernelspec": {
   "display_name": "Python 3 (ipykernel)",
   "language": "python",
   "name": "python3"
  },
  "language_info": {
   "codemirror_mode": {
    "name": "ipython",
    "version": 3
   },
   "file_extension": ".py",
   "mimetype": "text/x-python",
   "name": "python",
   "nbconvert_exporter": "python",
   "pygments_lexer": "ipython3",
   "version": "3.9.17"
  }
 },
 "nbformat": 4,
 "nbformat_minor": 5
}
