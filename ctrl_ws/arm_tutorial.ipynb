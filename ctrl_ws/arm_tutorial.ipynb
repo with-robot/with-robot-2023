{
 "cells": [
  {
   "cell_type": "code",
   "execution_count": 5,
   "id": "5e117432-baaa-4dd2-b858-d4b430b6770d",
   "metadata": {},
   "outputs": [],
   "source": [
    "import numpy as np\n",
    "import json\n",
    "import requests\n",
    "import ipywidgets as widgets"
   ]
  },
  {
   "cell_type": "code",
   "execution_count": 10,
   "id": "be46e04b-9165-4938-8af6-2631323ec08a",
   "metadata": {},
   "outputs": [],
   "source": [
    "def control_arm(thetas):\n",
    "    data = {\n",
    "        'joint_states': thetas\n",
    "    }\n",
    "    headers = {\"Content-Type\": \"application/json\"}\n",
    "    return requests.put('http://192.168.64.2:5000/',\n",
    "                        headers=headers,\n",
    "                        data=json.dumps(data)).json()"
   ]
  },
  {
   "cell_type": "code",
   "execution_count": 11,
   "id": "fea9cbb7-b8cc-4222-9087-ff811c05b40f",
   "metadata": {},
   "outputs": [
    {
     "data": {
      "text/plain": [
       "{'edge': {'orientation': [0.0, 0.0, 0.0, 1.0],\n",
       "  'position': [0.125, 0.0, 1.325]},\n",
       " 'joint_01': {'orientation': [0.0, 0.0, 0.0, 1.0],\n",
       "  'position': [0.0, 0.0, 0.225]},\n",
       " 'joint_02': {'orientation': [0.0, 0.0, 0.0, 1.0],\n",
       "  'position': [0.125, 0.0, 0.225]},\n",
       " 'joint_03': {'orientation': [0.0, 0.0, 0.0, 1.0],\n",
       "  'position': [0.125, 0.0, 0.75]},\n",
       " 'joint_04': {'orientation': [0.0, 0.0, 0.0, 1.0],\n",
       "  'position': [0.0, 0.0, 0.75]},\n",
       " 'joint_05': {'orientation': [0.0, 0.0, 0.0, 1.0],\n",
       "  'position': [0.0, 0.0, 1.125]},\n",
       " 'joint_06': {'orientation': [0.0, 0.0, 0.0, 1.0],\n",
       "  'position': [0.125, 0.0, 1.125]},\n",
       " 'joint_states': [0.0, 0.0, 0.0, 0.0, 0.0, 0.0]}"
      ]
     },
     "execution_count": 11,
     "metadata": {},
     "output_type": "execute_result"
    }
   ],
   "source": [
    "control_arm([0, 0, 0, 0, 0, 0])"
   ]
  },
  {
   "cell_type": "code",
   "execution_count": 8,
   "id": "392f2444-2739-4e62-ac4f-1ccf769530b2",
   "metadata": {},
   "outputs": [],
   "source": [
    "def make_slider(name):\n",
    "    w = widgets.FloatSlider(\n",
    "        value=0,\n",
    "        min=-np.pi,\n",
    "        max=np.pi,\n",
    "        step=0.01,\n",
    "        readout_format='.2f',\n",
    "        description=f'{name}:',\n",
    "        layout=widgets.Layout(width='600px')\n",
    "    )\n",
    "    return w\n",
    "\n",
    "def make_text(name):\n",
    "    w = widgets.Text(\n",
    "        readout_format='.2f',\n",
    "        description=f'{name}:',\n",
    "        layout=widgets.Layout(width='600px')\n",
    "    )\n",
    "    return w"
   ]
  },
  {
   "cell_type": "code",
   "execution_count": 13,
   "id": "a1e7ba94-faa7-4fef-b413-67bbd1856ba3",
   "metadata": {},
   "outputs": [
    {
     "data": {
      "application/vnd.jupyter.widget-view+json": {
       "model_id": "1709c3f5af1846d4a12eeffb072707d6",
       "version_major": 2,
       "version_minor": 0
      },
      "text/plain": [
       "FloatSlider(value=0.0, description='Joint 01:', layout=Layout(width='600px'), max=3.141592653589793, min=-3.14…"
      ]
     },
     "metadata": {},
     "output_type": "display_data"
    },
    {
     "data": {
      "application/vnd.jupyter.widget-view+json": {
       "model_id": "4dfcede8c036465d984a84ac8e258557",
       "version_major": 2,
       "version_minor": 0
      },
      "text/plain": [
       "Text(value='', description='Joint 01:', layout=Layout(width='600px'))"
      ]
     },
     "metadata": {},
     "output_type": "display_data"
    },
    {
     "data": {
      "application/vnd.jupyter.widget-view+json": {
       "model_id": "ce5c41060ea442a08d7af46c547e81b6",
       "version_major": 2,
       "version_minor": 0
      },
      "text/plain": [
       "FloatSlider(value=0.0, description='Joint 02:', layout=Layout(width='600px'), max=3.141592653589793, min=-3.14…"
      ]
     },
     "metadata": {},
     "output_type": "display_data"
    },
    {
     "data": {
      "application/vnd.jupyter.widget-view+json": {
       "model_id": "a2ca0ded70014af5b134c417bb0205f8",
       "version_major": 2,
       "version_minor": 0
      },
      "text/plain": [
       "Text(value='', description='Joint 02:', layout=Layout(width='600px'))"
      ]
     },
     "metadata": {},
     "output_type": "display_data"
    },
    {
     "data": {
      "application/vnd.jupyter.widget-view+json": {
       "model_id": "6fbc04e51cc14bc78d2dc386b7db5aa0",
       "version_major": 2,
       "version_minor": 0
      },
      "text/plain": [
       "FloatSlider(value=0.0, description='Joint 03:', layout=Layout(width='600px'), max=3.141592653589793, min=-3.14…"
      ]
     },
     "metadata": {},
     "output_type": "display_data"
    },
    {
     "data": {
      "application/vnd.jupyter.widget-view+json": {
       "model_id": "a1620fc1c3cb460cb7ec16a1aaafb3aa",
       "version_major": 2,
       "version_minor": 0
      },
      "text/plain": [
       "Text(value='', description='Joint 03:', layout=Layout(width='600px'))"
      ]
     },
     "metadata": {},
     "output_type": "display_data"
    },
    {
     "data": {
      "application/vnd.jupyter.widget-view+json": {
       "model_id": "0899084018e14f899a46f3ecd4f93e06",
       "version_major": 2,
       "version_minor": 0
      },
      "text/plain": [
       "FloatSlider(value=0.0, description='Joint 04:', layout=Layout(width='600px'), max=3.141592653589793, min=-3.14…"
      ]
     },
     "metadata": {},
     "output_type": "display_data"
    },
    {
     "data": {
      "application/vnd.jupyter.widget-view+json": {
       "model_id": "c263f72fceb94e8297f8c10c5cf68dc5",
       "version_major": 2,
       "version_minor": 0
      },
      "text/plain": [
       "Text(value='', description='Joint 04:', layout=Layout(width='600px'))"
      ]
     },
     "metadata": {},
     "output_type": "display_data"
    },
    {
     "data": {
      "application/vnd.jupyter.widget-view+json": {
       "model_id": "c1c51f7e44a54320a53940067a07931d",
       "version_major": 2,
       "version_minor": 0
      },
      "text/plain": [
       "FloatSlider(value=0.0, description='Joint 05:', layout=Layout(width='600px'), max=3.141592653589793, min=-3.14…"
      ]
     },
     "metadata": {},
     "output_type": "display_data"
    },
    {
     "data": {
      "application/vnd.jupyter.widget-view+json": {
       "model_id": "b02e99de17df4edda0e2c8e5bd9dc5aa",
       "version_major": 2,
       "version_minor": 0
      },
      "text/plain": [
       "Text(value='', description='Joint 05:', layout=Layout(width='600px'))"
      ]
     },
     "metadata": {},
     "output_type": "display_data"
    },
    {
     "data": {
      "application/vnd.jupyter.widget-view+json": {
       "model_id": "a835c97fc39b4a3196d697336d18849c",
       "version_major": 2,
       "version_minor": 0
      },
      "text/plain": [
       "FloatSlider(value=0.0, description='Joint 06:', layout=Layout(width='600px'), max=3.141592653589793, min=-3.14…"
      ]
     },
     "metadata": {},
     "output_type": "display_data"
    },
    {
     "data": {
      "application/vnd.jupyter.widget-view+json": {
       "model_id": "94c7c1d92a784d4e8a476ac28a186635",
       "version_major": 2,
       "version_minor": 0
      },
      "text/plain": [
       "Text(value='', description='Joint 06:', layout=Layout(width='600px'))"
      ]
     },
     "metadata": {},
     "output_type": "display_data"
    },
    {
     "data": {
      "application/vnd.jupyter.widget-view+json": {
       "model_id": "f7c539d650ca41068c5d69fdf905dc0c",
       "version_major": 2,
       "version_minor": 0
      },
      "text/plain": [
       "Text(value='', description='Joint 0e:', layout=Layout(width='600px'))"
      ]
     },
     "metadata": {},
     "output_type": "display_data"
    }
   ],
   "source": [
    "joint01 = make_slider('Joint 01')\n",
    "joint02 = make_slider('Joint 02')\n",
    "joint03 = make_slider('Joint 03')\n",
    "joint04 = make_slider('Joint 04')\n",
    "joint05 = make_slider('Joint 05')\n",
    "joint06 = make_slider('Joint 06')\n",
    "\n",
    "pos01 = make_text('Joint 01')\n",
    "pos02 = make_text('Joint 02')\n",
    "pos03 = make_text('Joint 03')\n",
    "pos04 = make_text('Joint 04')\n",
    "pos05 = make_text('Joint 05')\n",
    "pos06 = make_text('Joint 06')\n",
    "pos0e = make_text('Joint 0e')\n",
    "\n",
    "display(joint01, pos01,\n",
    "        joint02, pos02,\n",
    "        joint03, pos03,\n",
    "        joint04, pos04,\n",
    "        joint05, pos05,\n",
    "        joint06, pos06, pos0e)\n",
    "\n",
    "thetas = [0.0, 0.0, 0.0, 0.0, 0.0, 0.0]\n",
    "\n",
    "def on_handle_change():\n",
    "    result = control_arm(thetas)\n",
    "    pos01.value = str(result['joint_01']['position']) + ', ' + str(result['joint_01']['orientation'])\n",
    "    pos02.value = str(result['joint_02']['position']) + ', ' + str(result['joint_02']['orientation'])\n",
    "    pos03.value = str(result['joint_03']['position']) + ', ' + str(result['joint_03']['orientation'])\n",
    "    pos04.value = str(result['joint_04']['position']) + ', ' + str(result['joint_04']['orientation'])\n",
    "    pos05.value = str(result['joint_05']['position']) + ', ' + str(result['joint_05']['orientation'])\n",
    "    pos06.value = str(result['joint_06']['position']) + ', ' + str(result['joint_06']['orientation'])\n",
    "    pos0e.value = str(result['edge']['position']) + ', ' + str(result['edge']['orientation'])\n",
    "\n",
    "def on_value_change(i):\n",
    "    def callback(change):\n",
    "        thetas[i] = change.new\n",
    "        on_handle_change()\n",
    "    return callback\n",
    "\n",
    "joint01.observe(on_value_change(0), names='value')\n",
    "joint02.observe(on_value_change(1), names='value')\n",
    "joint03.observe(on_value_change(2), names='value')\n",
    "joint04.observe(on_value_change(3), names='value')\n",
    "joint05.observe(on_value_change(4), names='value')\n",
    "joint06.observe(on_value_change(5), names='value')"
   ]
  },
  {
   "cell_type": "code",
   "execution_count": null,
   "id": "79d32bc1-696b-4191-b5ce-a7aa78d6d272",
   "metadata": {},
   "outputs": [],
   "source": []
  }
 ],
 "metadata": {
  "kernelspec": {
   "display_name": "Python 3 (ipykernel)",
   "language": "python",
   "name": "python3"
  },
  "language_info": {
   "codemirror_mode": {
    "name": "ipython",
    "version": 3
   },
   "file_extension": ".py",
   "mimetype": "text/x-python",
   "name": "python",
   "nbconvert_exporter": "python",
   "pygments_lexer": "ipython3",
   "version": "3.9.17"
  }
 },
 "nbformat": 4,
 "nbformat_minor": 5
}
